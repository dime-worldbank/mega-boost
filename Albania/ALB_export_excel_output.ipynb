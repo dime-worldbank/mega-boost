{
 "cells": [
  {
   "cell_type": "code",
   "execution_count": 0,
   "metadata": {
    "application/vnd.databricks.v1+cell": {
     "cellMetadata": {
      "byteLimit": 2048000,
      "rowLimit": 10000
     },
     "inputWidgets": {},
     "nuid": "33e076c7-a38f-4395-9635-c11b131af298",
     "showTitle": false,
     "tableResultSettingsMap": {},
     "title": ""
    }
   },
   "outputs": [],
   "source": [
    "%run ../utils"
   ]
  },
  {
   "cell_type": "code",
   "execution_count": 0,
   "metadata": {
    "application/vnd.databricks.v1+cell": {
     "cellMetadata": {
      "byteLimit": 2048000,
      "rowLimit": 10000
     },
     "inputWidgets": {},
     "nuid": "5ea1fb07-8395-4df9-a72f-9cb4eb11dcdb",
     "showTitle": false,
     "tableResultSettingsMap": {},
     "title": ""
    }
   },
   "outputs": [],
   "source": [
    "import openpyxl\n",
    "import tempfile\n",
    "import shutil\n",
    "\n",
    "output_path = OUTPUT_DIR + \"albania.xlsx\"\n",
    "raw_data =  spark.table(f\"{TARGET}.alb_publish_test\").toPandas()\n",
    "\n",
    "# Databricks Volumes do not support direct writing of binary files (e.g., Excel) from Python libraries.\n",
    "# Workaround: write to a local temporary file, then copy it to the volume.\n",
    "with tempfile.NamedTemporaryFile(suffix=\".xlsx\", delete=True) as tmp:\n",
    "    temp_path = tmp.name\n",
    "    raw_data.to_excel(temp_path,engine=\"openpyxl\", index=False)\n",
    "    shutil.copy(temp_path, output_path)\n",
    "print(f\"Excel file saved to: {output_path}\")"
   ]
  },
  {
   "cell_type": "code",
   "execution_count": 0,
   "metadata": {
    "application/vnd.databricks.v1+cell": {
     "cellMetadata": {},
     "inputWidgets": {},
     "nuid": "538106f8-100b-400c-bf54-c13ee0144a9c",
     "showTitle": false,
     "tableResultSettingsMap": {},
     "title": ""
    }
   },
   "outputs": [],
   "source": []
  }
 ],
 "metadata": {
  "application/vnd.databricks.v1+notebook": {
   "computePreferences": null,
   "dashboards": [],
   "environmentMetadata": {
    "base_environment": "",
    "environment_version": "2"
   },
   "inputWidgetPreferences": null,
   "language": "python",
   "notebookMetadata": {
    "mostRecentlyExecutedCommandWithImplicitDF": {
     "commandId": 7128269509096103,
     "dataframes": [
      "_sqldf"
     ]
    },
    "pythonIndentUnit": 4
   },
   "notebookName": "ALB_export_excel_output",
   "widgets": {}
  },
  "language_info": {
   "name": "python"
  }
 },
 "nbformat": 4,
 "nbformat_minor": 0
}
