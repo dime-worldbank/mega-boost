{
 "cells": [
  {
   "cell_type": "code",
   "execution_count": 0,
   "metadata": {
    "application/vnd.databricks.v1+cell": {
     "cellMetadata": {
      "byteLimit": 2048000,
      "rowLimit": 10000
     },
     "inputWidgets": {},
     "nuid": "7f1c4338-81f6-416d-8a90-17c345bd3170",
     "showTitle": false,
     "tableResultSettingsMap": {},
     "title": ""
    }
   },
   "outputs": [],
   "source": [
    "%run ../utils"
   ]
  },
  {
   "cell_type": "code",
   "execution_count": 0,
   "metadata": {
    "application/vnd.databricks.v1+cell": {
     "cellMetadata": {
      "byteLimit": 2048000,
      "rowLimit": 10000
     },
     "inputWidgets": {},
     "nuid": "cf1c1fbf-9be8-4835-af27-9191be3870eb",
     "showTitle": false,
     "tableResultSettingsMap": {},
     "title": ""
    }
   },
   "outputs": [],
   "source": [
    "from tqdm import tqdm\n",
    "import openpyxl\n",
    "import pandas as pd\n",
    "\n",
    "COUNTRY = 'Ghana'\n",
    "microdata_csv_dir = prepare_microdata_csv_dir(COUNTRY)\n",
    "filename = input_excel_filename(COUNTRY)\n",
    "\n",
    "disaggregated_data_sheets = ['Raw']\n",
    "for sheet in tqdm(disaggregated_data_sheets):\n",
    "    csv_file_path = f'{microdata_csv_dir}/{sheet}.csv'\n",
    "    df = pd.read_excel(filename, sheet_name=sheet, header=0)\n",
    "\n",
    "    header = [col_name for col_name in df.columns if is_named_column(col_name)]\n",
    "    df = df[header]\n",
    "    df.columns = [col.strip() for col in header]\n",
    "    df = df.applymap(normalize_cell)\n",
    "    df = df.dropna(how='all')\n",
    "\n",
    "    df.to_csv(csv_file_path, index=False, encoding='utf-8')"
   ]
  }
 ],
 "metadata": {
  "application/vnd.databricks.v1+notebook": {
   "computePreferences": null,
   "dashboards": [],
   "environmentMetadata": {
    "base_environment": "",
    "client": "2"
   },
   "language": "python",
   "notebookMetadata": {
    "pythonIndentUnit": 4
   },
   "notebookName": "GHA_extract_microdata_excel_to_csv",
   "widgets": {}
  },
  "language_info": {
   "name": "python"
  }
 },
 "nbformat": 4,
 "nbformat_minor": 0
}
